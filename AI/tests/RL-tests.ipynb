{
 "cells": [
  {
   "cell_type": "code",
   "execution_count": 1,
   "id": "2f989ee9",
   "metadata": {},
   "outputs": [
    {
     "name": "stdout",
     "output_type": "stream",
     "text": [
      "Requirement already satisfied: gymnasium[box2d] in /Users/haidermalik/Documents/Code/CS_NOTES/AI/venv/lib/python3.10/site-packages (1.2.0)\n",
      "Requirement already satisfied: stable-baselines3[extra] in /Users/haidermalik/Documents/Code/CS_NOTES/AI/venv/lib/python3.10/site-packages (2.7.0)\n",
      "Requirement already satisfied: farama-notifications>=0.0.1 in /Users/haidermalik/Documents/Code/CS_NOTES/AI/venv/lib/python3.10/site-packages (from gymnasium[box2d]) (0.0.4)\n",
      "Requirement already satisfied: cloudpickle>=1.2.0 in /Users/haidermalik/Documents/Code/CS_NOTES/AI/venv/lib/python3.10/site-packages (from gymnasium[box2d]) (3.1.1)\n",
      "Requirement already satisfied: numpy>=1.21.0 in /Users/haidermalik/Documents/Code/CS_NOTES/AI/venv/lib/python3.10/site-packages (from gymnasium[box2d]) (1.26.4)\n",
      "Requirement already satisfied: typing-extensions>=4.3.0 in /Users/haidermalik/Documents/Code/CS_NOTES/AI/venv/lib/python3.10/site-packages (from gymnasium[box2d]) (4.13.0)\n",
      "Requirement already satisfied: swig==4.* in /Users/haidermalik/Documents/Code/CS_NOTES/AI/venv/lib/python3.10/site-packages (from gymnasium[box2d]) (4.3.1.post0)\n",
      "Requirement already satisfied: pygame>=2.1.3 in /Users/haidermalik/Documents/Code/CS_NOTES/AI/venv/lib/python3.10/site-packages (from gymnasium[box2d]) (2.6.1)\n",
      "Requirement already satisfied: box2d-py==2.3.5 in /Users/haidermalik/Documents/Code/CS_NOTES/AI/venv/lib/python3.10/site-packages (from gymnasium[box2d]) (2.3.5)\n",
      "Requirement already satisfied: matplotlib in /Users/haidermalik/Documents/Code/CS_NOTES/AI/venv/lib/python3.10/site-packages (from stable-baselines3[extra]) (3.10.1)\n",
      "Requirement already satisfied: pandas in /Users/haidermalik/Documents/Code/CS_NOTES/AI/venv/lib/python3.10/site-packages (from stable-baselines3[extra]) (2.2.3)\n",
      "Requirement already satisfied: torch<3.0,>=2.3 in /Users/haidermalik/Documents/Code/CS_NOTES/AI/venv/lib/python3.10/site-packages (from stable-baselines3[extra]) (2.6.0)\n",
      "Requirement already satisfied: pillow in /Users/haidermalik/Documents/Code/CS_NOTES/AI/venv/lib/python3.10/site-packages (from stable-baselines3[extra]) (11.2.1)\n",
      "Requirement already satisfied: psutil in /Users/haidermalik/Documents/Code/CS_NOTES/AI/venv/lib/python3.10/site-packages (from stable-baselines3[extra]) (7.0.0)\n",
      "Requirement already satisfied: ale-py>=0.9.0 in /Users/haidermalik/Documents/Code/CS_NOTES/AI/venv/lib/python3.10/site-packages (from stable-baselines3[extra]) (0.11.2)\n",
      "Requirement already satisfied: opencv-python in /Users/haidermalik/Documents/Code/CS_NOTES/AI/venv/lib/python3.10/site-packages (from stable-baselines3[extra]) (4.11.0.86)\n",
      "Requirement already satisfied: tensorboard>=2.9.1 in /Users/haidermalik/Documents/Code/CS_NOTES/AI/venv/lib/python3.10/site-packages (from stable-baselines3[extra]) (2.19.0)\n",
      "Requirement already satisfied: rich in /Users/haidermalik/Documents/Code/CS_NOTES/AI/venv/lib/python3.10/site-packages (from stable-baselines3[extra]) (14.0.0)\n",
      "Requirement already satisfied: tqdm in /Users/haidermalik/Documents/Code/CS_NOTES/AI/venv/lib/python3.10/site-packages (from stable-baselines3[extra]) (4.67.1)\n",
      "Requirement already satisfied: protobuf!=4.24.0,>=3.19.6 in /Users/haidermalik/Documents/Code/CS_NOTES/AI/venv/lib/python3.10/site-packages (from tensorboard>=2.9.1->stable-baselines3[extra]) (5.29.4)\n",
      "Requirement already satisfied: tensorboard-data-server<0.8.0,>=0.7.0 in /Users/haidermalik/Documents/Code/CS_NOTES/AI/venv/lib/python3.10/site-packages (from tensorboard>=2.9.1->stable-baselines3[extra]) (0.7.2)\n",
      "Requirement already satisfied: werkzeug>=1.0.1 in /Users/haidermalik/Documents/Code/CS_NOTES/AI/venv/lib/python3.10/site-packages (from tensorboard>=2.9.1->stable-baselines3[extra]) (3.1.3)\n",
      "Requirement already satisfied: markdown>=2.6.8 in /Users/haidermalik/Documents/Code/CS_NOTES/AI/venv/lib/python3.10/site-packages (from tensorboard>=2.9.1->stable-baselines3[extra]) (3.7)\n",
      "Requirement already satisfied: grpcio>=1.48.2 in /Users/haidermalik/Documents/Code/CS_NOTES/AI/venv/lib/python3.10/site-packages (from tensorboard>=2.9.1->stable-baselines3[extra]) (1.71.0)\n",
      "Requirement already satisfied: setuptools>=41.0.0 in /Users/haidermalik/Documents/Code/CS_NOTES/AI/venv/lib/python3.10/site-packages (from tensorboard>=2.9.1->stable-baselines3[extra]) (65.5.0)\n",
      "Requirement already satisfied: packaging in /Users/haidermalik/Documents/Code/CS_NOTES/AI/venv/lib/python3.10/site-packages (from tensorboard>=2.9.1->stable-baselines3[extra]) (24.2)\n",
      "Requirement already satisfied: six>1.9 in /Users/haidermalik/Documents/Code/CS_NOTES/AI/venv/lib/python3.10/site-packages (from tensorboard>=2.9.1->stable-baselines3[extra]) (1.17.0)\n",
      "Requirement already satisfied: absl-py>=0.4 in /Users/haidermalik/Documents/Code/CS_NOTES/AI/venv/lib/python3.10/site-packages (from tensorboard>=2.9.1->stable-baselines3[extra]) (2.2.1)\n",
      "Requirement already satisfied: networkx in /Users/haidermalik/Documents/Code/CS_NOTES/AI/venv/lib/python3.10/site-packages (from torch<3.0,>=2.3->stable-baselines3[extra]) (3.4.2)\n",
      "Requirement already satisfied: fsspec in /Users/haidermalik/Documents/Code/CS_NOTES/AI/venv/lib/python3.10/site-packages (from torch<3.0,>=2.3->stable-baselines3[extra]) (2024.12.0)\n",
      "Requirement already satisfied: sympy==1.13.1 in /Users/haidermalik/Documents/Code/CS_NOTES/AI/venv/lib/python3.10/site-packages (from torch<3.0,>=2.3->stable-baselines3[extra]) (1.13.1)\n",
      "Requirement already satisfied: jinja2 in /Users/haidermalik/Documents/Code/CS_NOTES/AI/venv/lib/python3.10/site-packages (from torch<3.0,>=2.3->stable-baselines3[extra]) (3.1.6)\n",
      "Requirement already satisfied: filelock in /Users/haidermalik/Documents/Code/CS_NOTES/AI/venv/lib/python3.10/site-packages (from torch<3.0,>=2.3->stable-baselines3[extra]) (3.18.0)\n",
      "Requirement already satisfied: mpmath<1.4,>=1.1.0 in /Users/haidermalik/Documents/Code/CS_NOTES/AI/venv/lib/python3.10/site-packages (from sympy==1.13.1->torch<3.0,>=2.3->stable-baselines3[extra]) (1.3.0)\n",
      "Requirement already satisfied: kiwisolver>=1.3.1 in /Users/haidermalik/Documents/Code/CS_NOTES/AI/venv/lib/python3.10/site-packages (from matplotlib->stable-baselines3[extra]) (1.4.8)\n",
      "Requirement already satisfied: fonttools>=4.22.0 in /Users/haidermalik/Documents/Code/CS_NOTES/AI/venv/lib/python3.10/site-packages (from matplotlib->stable-baselines3[extra]) (4.56.0)\n",
      "Requirement already satisfied: contourpy>=1.0.1 in /Users/haidermalik/Documents/Code/CS_NOTES/AI/venv/lib/python3.10/site-packages (from matplotlib->stable-baselines3[extra]) (1.3.1)\n",
      "Requirement already satisfied: cycler>=0.10 in /Users/haidermalik/Documents/Code/CS_NOTES/AI/venv/lib/python3.10/site-packages (from matplotlib->stable-baselines3[extra]) (0.12.1)\n",
      "Requirement already satisfied: python-dateutil>=2.7 in /Users/haidermalik/Documents/Code/CS_NOTES/AI/venv/lib/python3.10/site-packages (from matplotlib->stable-baselines3[extra]) (2.9.0.post0)\n",
      "Requirement already satisfied: pyparsing>=2.3.1 in /Users/haidermalik/Documents/Code/CS_NOTES/AI/venv/lib/python3.10/site-packages (from matplotlib->stable-baselines3[extra]) (3.2.3)\n",
      "Requirement already satisfied: pytz>=2020.1 in /Users/haidermalik/Documents/Code/CS_NOTES/AI/venv/lib/python3.10/site-packages (from pandas->stable-baselines3[extra]) (2025.2)\n",
      "Requirement already satisfied: tzdata>=2022.7 in /Users/haidermalik/Documents/Code/CS_NOTES/AI/venv/lib/python3.10/site-packages (from pandas->stable-baselines3[extra]) (2025.2)\n",
      "Requirement already satisfied: pygments<3.0.0,>=2.13.0 in /Users/haidermalik/Documents/Code/CS_NOTES/AI/venv/lib/python3.10/site-packages (from rich->stable-baselines3[extra]) (2.19.1)\n",
      "Requirement already satisfied: markdown-it-py>=2.2.0 in /Users/haidermalik/Documents/Code/CS_NOTES/AI/venv/lib/python3.10/site-packages (from rich->stable-baselines3[extra]) (3.0.0)\n",
      "Requirement already satisfied: mdurl~=0.1 in /Users/haidermalik/Documents/Code/CS_NOTES/AI/venv/lib/python3.10/site-packages (from markdown-it-py>=2.2.0->rich->stable-baselines3[extra]) (0.1.2)\n",
      "Requirement already satisfied: MarkupSafe>=2.1.1 in /Users/haidermalik/Documents/Code/CS_NOTES/AI/venv/lib/python3.10/site-packages (from werkzeug>=1.0.1->tensorboard>=2.9.1->stable-baselines3[extra]) (3.0.2)\n",
      "\n",
      "\u001b[1m[\u001b[0m\u001b[34;49mnotice\u001b[0m\u001b[1;39;49m]\u001b[0m\u001b[39;49m A new release of pip available: \u001b[0m\u001b[31;49m22.3.1\u001b[0m\u001b[39;49m -> \u001b[0m\u001b[32;49m25.2\u001b[0m\n",
      "\u001b[1m[\u001b[0m\u001b[34;49mnotice\u001b[0m\u001b[1;39;49m]\u001b[0m\u001b[39;49m To update, run: \u001b[0m\u001b[32;49mpip install --upgrade pip\u001b[0m\n",
      "Note: you may need to restart the kernel to use updated packages.\n"
     ]
    }
   ],
   "source": [
    "%pip install \"gymnasium[box2d]\" \"stable-baselines3[extra]\""
   ]
  },
  {
   "cell_type": "code",
   "execution_count": null,
   "id": "c717034a",
   "metadata": {},
   "outputs": [],
   "source": [
    "#Step 2: Try the environment manually (play with arrow keys)\n",
    "import gymnasium as gym\n",
    "\n",
    "# Create CarRacing environment\n",
    "env = gym.make(\"CarRacing-v3\", render_mode=\"human\")\n",
    "\n",
    "obs, info = env.reset()\n",
    "done = False\n",
    "\n",
    "while not done:\n",
    "    action = env.action_space.sample()  # random actions (you can change this)\n",
    "    obs, reward, terminated, truncated, info = env.step(action)\n",
    "    done = terminated or truncated\n",
    "\n",
    "env.close()\n"
   ]
  },
  {
   "cell_type": "code",
   "execution_count": null,
   "id": "13bec6bd",
   "metadata": {},
   "outputs": [],
   "source": [
    "# Step 3: Train an RL agent with PPO, here a minimal example with stable-baselines3\n",
    "from stable_baselines3 import PPO\n",
    "import gymnasium as gym\n",
    "\n",
    "# Create environment\n",
    "env = gym.make(\"CarRacing-v3\", render_mode=None)  # no rendering during training\n",
    "\n",
    "# Create PPO model\n",
    "model = PPO(\"CnnPolicy\", env, verbose=1)\n",
    "\n",
    "# Train for 100,000 timesteps (takes a while, start small if testing)\n",
    "model.learn(total_timesteps=10000) \n",
    "\n",
    "# Save the model\n",
    "model.save(\"ppo_carracing\")\n"
   ]
  },
  {
   "cell_type": "code",
   "execution_count": null,
   "id": "e7f9b49e",
   "metadata": {},
   "outputs": [
    {
     "ename": "",
     "evalue": "",
     "output_type": "error",
     "traceback": [
      "\u001b[1;31mThe Kernel crashed while executing code in the current cell or a previous cell. \n",
      "\u001b[1;31mPlease review the code in the cell(s) to identify a possible cause of the failure. \n",
      "\u001b[1;31mClick <a href='https://aka.ms/vscodeJupyterKernelCrash'>here</a> for more info. \n",
      "\u001b[1;31mView Jupyter <a href='command:jupyter.viewOutput'>log</a> for further details."
     ]
    }
   ],
   "source": [
    "#Step 4: Watch the trained agent drive\n",
    "from stable_baselines3 import PPO\n",
    "import gymnasium as gym\n",
    "\n",
    "# Load trained model\n",
    "model = PPO.load(\"ppo_carracing\")\n",
    "\n",
    "# Create env with rendering\n",
    "env = gym.make(\"CarRacing-v3\", render_mode=\"human\")\n",
    "\n",
    "obs, info = env.reset()\n",
    "done = False\n",
    "\n",
    "while not done:\n",
    "    action, _ = model.predict(obs)  # use trained model\n",
    "    obs, reward, terminated, truncated, info = env.step(action)\n",
    "    done = terminated or truncated\n",
    "\n",
    "env.close()\n"
   ]
  }
 ],
 "metadata": {
  "kernelspec": {
   "display_name": "venv",
   "language": "python",
   "name": "python3"
  },
  "language_info": {
   "codemirror_mode": {
    "name": "ipython",
    "version": 3
   },
   "file_extension": ".py",
   "mimetype": "text/x-python",
   "name": "python",
   "nbconvert_exporter": "python",
   "pygments_lexer": "ipython3",
   "version": "3.10.10"
  }
 },
 "nbformat": 4,
 "nbformat_minor": 5
}
