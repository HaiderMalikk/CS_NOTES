{
 "cells": [
  {
   "cell_type": "code",
   "execution_count": null,
   "id": "2f989ee9",
   "metadata": {},
   "outputs": [],
   "source": [
    "%pip install \"gymnasium[box2d]\" \"stable-baselines3[extra]\""
   ]
  },
  {
   "cell_type": "code",
   "execution_count": null,
   "id": "c717034a",
   "metadata": {},
   "outputs": [],
   "source": [
    "#Step 2: Try the environment manually (play with arrow keys)\n",
    "import gymnasium as gym\n",
    "\n",
    "# Create CarRacing environment\n",
    "env = gym.make(\"CarRacing-v3\", render_mode=\"human\")\n",
    "\n",
    "obs, info = env.reset()\n",
    "done = False\n",
    "\n",
    "while not done:\n",
    "    action = env.action_space.sample()  # random actions (you can change this)\n",
    "    obs, reward, terminated, truncated, info = env.step(action)\n",
    "    done = terminated or truncated\n",
    "\n",
    "env.close()\n"
   ]
  },
  {
   "cell_type": "code",
   "execution_count": null,
   "id": "13bec6bd",
   "metadata": {},
   "outputs": [],
   "source": [
    "# Step 3: Train an RL agent with PPO, here a minimal example with stable-baselines3\n",
    "from stable_baselines3 import PPO\n",
    "import gymnasium as gym\n",
    "\n",
    "# Create environment\n",
    "env = gym.make(\"CarRacing-v3\", render_mode=None)  # no rendering during training\n",
    "\n",
    "# Create PPO model\n",
    "model = PPO(\"CnnPolicy\", env, verbose=1)\n",
    "\n",
    "# Train for 100,000 timesteps (takes a while, start small if testing)\n",
    "model.learn(total_timesteps=10000) \n",
    "\n",
    "# Save the model\n",
    "model.save(\"ppo_carracing\")\n"
   ]
  },
  {
   "cell_type": "code",
   "execution_count": null,
   "id": "e7f9b49e",
   "metadata": {},
   "outputs": [],
   "source": [
    "#Step 4: Watch the trained agent drive\n",
    "from stable_baselines3 import PPO\n",
    "import gymnasium as gym\n",
    "\n",
    "# Load trained model\n",
    "model = PPO.load(\"ppo_carracing\")\n",
    "\n",
    "# Create env with rendering\n",
    "env = gym.make(\"CarRacing-v3\", render_mode=\"human\")\n",
    "\n",
    "obs, info = env.reset()\n",
    "done = False\n",
    "\n",
    "while not done:\n",
    "    action, _ = model.predict(obs)  # use trained model\n",
    "    obs, reward, terminated, truncated, info = env.step(action)\n",
    "    done = terminated or truncated\n",
    "\n",
    "env.close()\n"
   ]
  }
 ],
 "metadata": {
  "kernelspec": {
   "display_name": "venv",
   "language": "python",
   "name": "python3"
  },
  "language_info": {
   "codemirror_mode": {
    "name": "ipython",
    "version": 3
   },
   "file_extension": ".py",
   "mimetype": "text/x-python",
   "name": "python",
   "nbconvert_exporter": "python",
   "pygments_lexer": "ipython3",
   "version": "3.10.10"
  }
 },
 "nbformat": 4,
 "nbformat_minor": 5
}
