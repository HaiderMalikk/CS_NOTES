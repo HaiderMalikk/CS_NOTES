{
 "cells": [
  {
   "cell_type": "code",
   "execution_count": null,
   "id": "7562e897",
   "metadata": {},
   "outputs": [],
   "source": [
    "!pip3 install vosk\n",
    "!pip3 install sounddevice\n"
   ]
  },
  {
   "cell_type": "code",
   "execution_count": null,
   "id": "96db0271",
   "metadata": {},
   "outputs": [],
   "source": [
    "from vosk import Model, KaldiRecognizer\n",
    "import sounddevice as sd\n",
    "import queue\n",
    "import json\n",
    "\n",
    "# Setup\n",
    "model = Model(\"./assets/vosk-model-small-en-us-0.15\")  # path to the downloaded model\n",
    "q = queue.Queue()\n",
    "\n",
    "# Callback to store audio\n",
    "def callback(indata, frames, time, status):\n",
    "    if status:\n",
    "        print(status)\n",
    "    q.put(bytes(indata))\n",
    "\n",
    "# Start listening\n",
    "with sd.RawInputStream(samplerate=16000, blocksize=8000, dtype='int16',\n",
    "                       channels=1, callback=callback):\n",
    "    print(\"Say something...\")\n",
    "    rec = KaldiRecognizer(model, 16000)\n",
    "\n",
    "    while True:\n",
    "        data = q.get()\n",
    "        if rec.AcceptWaveform(data):\n",
    "            result = json.loads(rec.Result())\n",
    "            print(\"You said:\", result.get(\"text\", \"\"))\n",
    "            break\n"
   ]
  }
 ],
 "metadata": {
  "kernelspec": {
   "display_name": "venv",
   "language": "python",
   "name": "python3"
  },
  "language_info": {
   "codemirror_mode": {
    "name": "ipython",
    "version": 3
   },
   "file_extension": ".py",
   "mimetype": "text/x-python",
   "name": "python",
   "nbconvert_exporter": "python",
   "pygments_lexer": "ipython3",
   "version": "3.10.10"
  }
 },
 "nbformat": 4,
 "nbformat_minor": 5
}
