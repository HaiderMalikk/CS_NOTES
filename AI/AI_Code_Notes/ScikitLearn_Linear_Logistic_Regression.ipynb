{
 "cells": [
  {
   "cell_type": "markdown",
   "id": "bad46c72",
   "metadata": {},
   "source": [
    "\n",
    "# Linear & Logistic Regression with scikit-learn  \n",
    "*Library‑level deep dive with syntax, parameters, examples*\n"
   ]
  },
  {
   "cell_type": "code",
   "execution_count": null,
   "id": "78ce9da4",
   "metadata": {},
   "outputs": [],
   "source": [
    "\n",
    "import numpy as np\n",
    "import pandas as pd\n",
    "\n",
    "from sklearn.datasets import make_regression, make_classification\n",
    "from sklearn.model_selection import train_test_split, GridSearchCV\n",
    "from sklearn.preprocessing import StandardScaler\n",
    "from sklearn.pipeline import Pipeline\n",
    "\n",
    "from sklearn.linear_model import LinearRegression, LogisticRegression\n",
    "from sklearn.metrics import (\n",
    "    r2_score,\n",
    "    accuracy_score,\n",
    "    classification_report,\n",
    "    confusion_matrix\n",
    ")\n"
   ]
  },
  {
   "cell_type": "markdown",
   "id": "7d1ffcff",
   "metadata": {},
   "source": [
    "## Linear Regression in scikit-learn"
   ]
  },
  {
   "cell_type": "code",
   "execution_count": null,
   "id": "725e768b",
   "metadata": {},
   "outputs": [],
   "source": [
    "\n",
    "# Example data (synthetic)\n",
    "X_reg, y_reg = make_regression(\n",
    "    n_samples=200, n_features=5, noise=0.5, random_state=0\n",
    ")\n",
    "\n",
    "# Split\n",
    "Xr_train, Xr_test, yr_train, yr_test = train_test_split(\n",
    "    X_reg, y_reg, random_state=0\n",
    ")\n",
    "\n",
    "# Instantiate & fit\n",
    "lr = LinearRegression(fit_intercept=True, normalize=False, copy_X=True, n_jobs=None)\n",
    "lr.fit(Xr_train, yr_train)\n",
    "\n",
    "# Predict & evaluate\n",
    "y_reg_pred = lr.predict(Xr_test)\n",
    "print(\"R² on test:\", r2_score(yr_test, y_reg_pred))\n",
    "print(\"Coefficients:\", lr.coef_)\n",
    "print(\"Intercept:\", lr.intercept_)\n"
   ]
  },
  {
   "cell_type": "code",
   "execution_count": null,
   "id": "5b7442f0",
   "metadata": {},
   "outputs": [],
   "source": [
    "\n",
    "# Using a pipeline (with scaling)\n",
    "pipe_lr = Pipeline([\n",
    "    ('scaler', StandardScaler()),\n",
    "    ('linreg', LinearRegression())\n",
    "], memory=None)\n",
    "\n",
    "pipe_lr.fit(Xr_train, yr_train)\n",
    "y_reg_pred2 = pipe_lr.predict(Xr_test)\n",
    "\n",
    "print(\"R² via pipeline:\", r2_score(yr_test, y_reg_pred2))\n",
    "print(\"Coefficients (pipeline):\", pipe_lr.named_steps['linreg'].coef_)\n",
    "print(\"Intercept (pipeline):\", pipe_lr.named_steps['linreg'].intercept_)\n"
   ]
  },
  {
   "cell_type": "markdown",
   "id": "12b63129",
   "metadata": {},
   "source": [
    "## Logistic Regression in scikit-learn"
   ]
  },
  {
   "cell_type": "code",
   "execution_count": null,
   "id": "02b05299",
   "metadata": {},
   "outputs": [],
   "source": [
    "\n",
    "# Synthetic classification data\n",
    "X_clf, y_clf = make_classification(\n",
    "    n_samples=200, n_features=5, n_informative=3,\n",
    "    n_redundant=1, n_classes=2, random_state=0\n",
    ")\n",
    "\n",
    "# Split\n",
    "Xc_train, Xc_test, yc_train, yc_test = train_test_split(\n",
    "    X_clf, y_clf, random_state=0\n",
    ")\n",
    "\n",
    "# Instantiate & fit\n",
    "clf = LogisticRegression(\n",
    "    penalty='l2',\n",
    "    C=1.0,\n",
    "    solver='lbfgs',\n",
    "    max_iter=100,\n",
    "    random_state=0\n",
    ")\n",
    "clf.fit(Xc_train, yc_train)\n",
    "\n",
    "# Predictions & probabilities\n",
    "y_clf_pred = clf.predict(Xc_test)\n",
    "y_clf_proba = clf.predict_proba(Xc_test)\n",
    "scores = clf.decision_function(Xc_test)\n",
    "\n",
    "print(\"Accuracy:\", accuracy_score(yc_test, y_clf_pred))\n",
    "print(\"Classification report:\\n\", classification_report(yc_test, y_clf_pred))\n",
    "print(\"Confusion matrix:\\n\", confusion_matrix(yc_test, y_clf_pred))\n",
    "print(\"First 5 predicted probabilities:\\n\", y_clf_proba[:5])\n",
    "print(\"Coefficients:\", clf.coef_)\n",
    "print(\"Intercept:\", clf.intercept_)\n"
   ]
  },
  {
   "cell_type": "code",
   "execution_count": null,
   "id": "24797909",
   "metadata": {},
   "outputs": [],
   "source": [
    "\n",
    "# Logistic regression with pipeline & hyperparameter tuning\n",
    "pipe_clf = Pipeline([\n",
    "    ('scaler', StandardScaler()),\n",
    "    ('logreg', LogisticRegression(solver='saga', max_iter=500))\n",
    "])\n",
    "\n",
    "param_grid = {\n",
    "    'logreg__C': [0.01, 0.1, 1, 10],\n",
    "    'logreg__penalty': ['l1', 'l2', 'elasticnet'],\n",
    "    'logreg__l1_ratio': [0.0, 0.5, 1.0]\n",
    "}\n",
    "\n",
    "grid = GridSearchCV(\n",
    "    estimator=pipe_clf,\n",
    "    param_grid=param_grid,\n",
    "    cv=5,\n",
    "    scoring='accuracy',\n",
    "    n_jobs=-1,\n",
    "    refit=True\n",
    ")\n",
    "\n",
    "grid.fit(Xc_train, yc_train)\n",
    "\n",
    "best = grid.best_estimator_\n",
    "print(\"Best hyperparameters:\", grid.best_params_)\n",
    "print(\"Test set accuracy:\", best.score(Xc_test, yc_test))\n",
    "\n",
    "y_best_pred = best.predict(Xc_test)\n",
    "print(\"Classification report for best model:\\n\",\n",
    "      classification_report(yc_test, y_best_pred))\n"
   ]
  },
  {
   "cell_type": "markdown",
   "id": "cf6fee32",
   "metadata": {},
   "source": [
    "\n",
    "## Exercises\n",
    "1. Try different `fit_intercept` values for `LinearRegression` and compare results.  \n",
    "2. Tune `C` and `penalty` for logistic regression and observe coefficient sparsity.  \n",
    "3. Create a multiclass dataset and test `multi_class='multinomial'` vs `'ovr'`.  \n",
    "4. Visualize coefficient magnitudes for different `C` values.\n"
   ]
  }
 ],
 "metadata": {
  "language_info": {
   "name": "python"
  }
 },
 "nbformat": 4,
 "nbformat_minor": 5
}
