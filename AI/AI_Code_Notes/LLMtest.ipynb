{
 "cells": [
  {
   "cell_type": "code",
   "execution_count": null,
   "id": "412a3cc2",
   "metadata": {},
   "outputs": [],
   "source": [
    "\n",
    "# Import libraries\n",
    "import transformers\n",
    "from transformers import pipeline\n",
    "\n",
    "# Example 1: Sentiment Analysis with LLM\n",
    "sentiment_analyzer = pipeline(\"sentiment-analysis\")\n",
    "result = sentiment_analyzer(\"I really enjoyed using this NLP model!\")\n",
    "print(f\"Sentiment Analysis Result: {result}\")\n",
    "\n",
    "# Example 2: Text Generation with LLM\n",
    "text_generator = pipeline(\"text-generation\", model=\"gpt2\", max_length=50)\n",
    "generated_text = text_generator(\"Natural Language Processing is\")\n",
    "print(f\"Generated Text: {generated_text[0]['generated_text']}\")\n",
    "\n",
    "# Example 3: Question Answering with LLM\n",
    "qa_pipeline = pipeline(\"question-answering\")\n",
    "context = \"Large Language Models are advanced NLP systems that can perform multiple language tasks.\"\n",
    "question = \"What are Large Language Models?\"\n",
    "answer = qa_pipeline(question=question, context=context)\n",
    "print(f\"Answer: {answer['answer']}\")"
   ]
  },
  {
   "cell_type": "code",
   "execution_count": null,
   "id": "cfbc334a",
   "metadata": {},
   "outputs": [],
   "source": [
    "# Add a new cell for Text-to-Speech functionality\n",
    "!pip3 install gTTS playsound"
   ]
  },
  {
   "cell_type": "code",
   "execution_count": null,
   "id": "e79ab6e8",
   "metadata": {},
   "outputs": [],
   "source": [
    "from gtts import gTTS\n",
    "from transformers import pipeline\n",
    "import os\n",
    "import IPython.display as ipd\n",
    "\n",
    "def speak_text(text, lang='en', slow=False):\n",
    "    \"\"\"\n",
    "    Convert text to speech and play it\n",
    "    \n",
    "    Parameters:\n",
    "    - text: The text to convert to speech\n",
    "    - lang: Language code (default: 'en' for English)\n",
    "    - slow: Whether to speak slowly (default: False)\n",
    "    \"\"\"\n",
    "    # Create a gTTS object\n",
    "    tts = gTTS(text=text, lang=lang, slow=slow)\n",
    "    \n",
    "    # Save to a temporary file\n",
    "    temp_file = \"assets/tts_output.mp3\"\n",
    "    tts.save(temp_file)\n",
    "    \n",
    "    # Play the audio in the notebook\n",
    "    return ipd.Audio(temp_file, autoplay=True)\n",
    "\n",
    "# Now let's make our LLM speak its output\n",
    "def generate_and_speak(prompt, max_length=50):\n",
    "    \"\"\"Generate text using LLM and then speak it\"\"\"\n",
    "    \n",
    "    # Generate text\n",
    "    text_generator = pipeline(\"text-generation\", model=\"gpt2\", max_length=max_length)\n",
    "    generated_text = text_generator(prompt)[0]['generated_text']\n",
    "    \n",
    "    print(\"Generated Text:\")\n",
    "    print(generated_text)\n",
    "    print(\"\\nNow speaking...\")\n",
    "    \n",
    "    # Return audio player\n",
    "    return speak_text(generated_text)\n",
    "\n",
    "# Test with different prompts\n",
    "generate_and_speak(\"Artificial intelligence can be defined as\")"
   ]
  }
 ],
 "metadata": {
  "kernelspec": {
   "display_name": "venv",
   "language": "python",
   "name": "python3"
  },
  "language_info": {
   "codemirror_mode": {
    "name": "ipython",
    "version": 3
   },
   "file_extension": ".py",
   "mimetype": "text/x-python",
   "name": "python",
   "nbconvert_exporter": "python",
   "pygments_lexer": "ipython3",
   "version": "3.10.10"
  }
 },
 "nbformat": 4,
 "nbformat_minor": 5
}
