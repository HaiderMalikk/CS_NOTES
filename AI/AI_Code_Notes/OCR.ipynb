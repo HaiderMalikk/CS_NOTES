{
 "cells": [
  {
   "cell_type": "code",
   "execution_count": null,
   "id": "b43b1a41",
   "metadata": {},
   "outputs": [],
   "source": [
    "# Install EasyOCR\n",
    "!pip3 install easyocr\n"
   ]
  },
  {
   "cell_type": "code",
   "execution_count": null,
   "id": "e7eec4c8",
   "metadata": {},
   "outputs": [],
   "source": [
    "import easyocr\n",
    "import matplotlib.pyplot as plt\n",
    "import numpy as np\n",
    "from PIL import Image\n",
    "\n",
    "# Initialize the OCR reader\n",
    "reader = easyocr.Reader(['en'])  # This needs to be run only once to load the model\n",
    "\n",
    "# Define a simple function to perform OCR on an image\n",
    "def easy_ocr(image_path):\n",
    "    try:\n",
    "        # Read image\n",
    "        result = reader.readtext(image_path)\n",
    "        \n",
    "        # Display the image\n",
    "        img = Image.open(image_path)\n",
    "        plt.figure(figsize=(10, 10))\n",
    "        plt.imshow(np.array(img))\n",
    "        plt.axis('off')\n",
    "        plt.title('Input Image')\n",
    "        plt.show()\n",
    "        \n",
    "        # Extract and return full text\n",
    "        full_text = \"\"\n",
    "        for detection in result:\n",
    "            text = detection[1]  # The text is the second element in each detection\n",
    "            full_text += text + \" \"\n",
    "            \n",
    "        return full_text\n",
    "    except Exception as e:\n",
    "        return f\"Error processing image: {str(e)}\"\n",
    "\n",
    "# Path to your image\n",
    "image_path = ''\n",
    "\n",
    "# Run OCR and print the extracted text\n",
    "extracted_text = easy_ocr(image_path)\n",
    "print(\"Extracted text from image:\")\n",
    "print(\"-\" * 40)\n",
    "print(extracted_text)"
   ]
  }
 ],
 "metadata": {
  "kernelspec": {
   "display_name": "venv",
   "language": "python",
   "name": "python3"
  },
  "language_info": {
   "codemirror_mode": {
    "name": "ipython",
    "version": 3
   },
   "file_extension": ".py",
   "mimetype": "text/x-python",
   "name": "python",
   "nbconvert_exporter": "python",
   "pygments_lexer": "ipython3",
   "version": "3.10.10"
  }
 },
 "nbformat": 4,
 "nbformat_minor": 5
}
