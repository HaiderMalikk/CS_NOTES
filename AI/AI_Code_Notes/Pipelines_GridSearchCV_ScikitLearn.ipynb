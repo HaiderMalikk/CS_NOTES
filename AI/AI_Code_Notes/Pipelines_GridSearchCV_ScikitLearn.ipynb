{
 "cells": [
  {
   "cell_type": "markdown",
   "id": "658feafb",
   "metadata": {},
   "source": [
    "\n",
    "# 🧠 Complete Guide to Pipelines and GridSearchCV in Scikit-Learn\n",
    "\n",
    "---\n",
    "## 1. Introduction\n",
    "\n",
    "In **Machine Learning Engineering**, you rarely just train a model — you build systems that combine preprocessing, feature transformation, and modeling.  \n",
    "This notebook shows how **Pipelines** and **GridSearchCV** help automate and optimize these workflows in Scikit-Learn, while teaching concepts that generalize to other ML frameworks.\n",
    "\n",
    "---\n"
   ]
  },
  {
   "cell_type": "markdown",
   "id": "040a04de",
   "metadata": {},
   "source": [
    "Pipeline = a tool in scikit-learn that lets you chain multiple preprocessing and modeling steps together so they run as one clean workflow (e.g., scaling → model).\n",
    "\n",
    "GridSearchCV = a tool that automatically tests combinations of hyperparameters (like C, gamma, etc.) using cross-validation to find the best model settings.\n",
    "\n",
    "how they work together:\n",
    "1. Use Pipeline to streamline preprocessing and modeling.\n",
    "2. Integrate GridSearchCV with the pipeline to optimize hyperparameters.\n"
   ]
  },
  {
   "cell_type": "code",
   "execution_count": null,
   "id": "eb05519a",
   "metadata": {},
   "outputs": [],
   "source": [
    "\n",
    "from sklearn.datasets import fetch_openml\n",
    "from sklearn.model_selection import train_test_split\n",
    "from sklearn.preprocessing import StandardScaler, OneHotEncoder\n",
    "from sklearn.compose import ColumnTransformer\n",
    "from sklearn.pipeline import Pipeline\n",
    "from sklearn.svm import SVC\n",
    "from sklearn.metrics import accuracy_score\n",
    "\n",
    "# Load Titanic dataset\n",
    "titanic = fetch_openml(\"titanic\", version=1, as_frame=True)\n",
    "X = titanic.data[[\"pclass\", \"sex\", \"age\", \"fare\"]]\n",
    "y = titanic.target\n",
    "\n",
    "# Define preprocessing\n",
    "numeric_features = [\"age\", \"fare\"]\n",
    "categorical_features = [\"pclass\", \"sex\"]\n",
    "\n",
    "from sklearn.impute import SimpleImputer\n",
    "\n",
    "numeric_transformer = Pipeline(steps=[\n",
    "    (\"imputer\", SimpleImputer(strategy=\"mean\")),  # Fill missing numeric values with the mean\n",
    "    (\"scaler\", StandardScaler())\n",
    "])\n",
    "categorical_transformer = Pipeline(steps=[\n",
    "    (\"imputer\", SimpleImputer(strategy=\"most_frequent\")),  # Fill missing categorical values with the most frequent value\n",
    "    (\"onehot\", OneHotEncoder(handle_unknown=\"ignore\"))\n",
    "])\n",
    "\n",
    "preprocessor = ColumnTransformer(\n",
    "    transformers=[\n",
    "        (\"num\", numeric_transformer, numeric_features),\n",
    "        (\"cat\", categorical_transformer, categorical_features),\n",
    "    ]\n",
    ")\n",
    "\n",
    "# Combine into pipeline\n",
    "clf = Pipeline(steps=[(\"preprocessor\", preprocessor),\n",
    "                      (\"classifier\", SVC(kernel=\"rbf\", C=1))])\n",
    "\n",
    "# Train/test split\n",
    "X_train, X_test, y_train, y_test = train_test_split(X, y, test_size=0.2, random_state=42)\n",
    "\n",
    "# Fit and evaluate\n",
    "clf.fit(X_train, y_train)\n",
    "y_pred = clf.predict(X_test)\n",
    "print(\"Accuracy:\", accuracy_score(y_test, y_pred))\n"
   ]
  },
  {
   "cell_type": "markdown",
   "id": "65270473",
   "metadata": {},
   "source": [
    "\n",
    "---\n",
    "## 2. Optimizing Pipelines with GridSearchCV\n",
    "\n",
    "Once your pipeline is built, you can tune hyperparameters **inside** it using `GridSearchCV`.\n",
    "\n",
    "This method automates the process of testing different combinations of hyperparameters using cross-validation.\n"
   ]
  },
  {
   "cell_type": "code",
   "execution_count": null,
   "id": "4acf421a",
   "metadata": {},
   "outputs": [],
   "source": [
    "\n",
    "from sklearn.model_selection import GridSearchCV\n",
    "\n",
    "param_grid = {\n",
    "    \"classifier__C\": [0.1, 1, 10],\n",
    "    \"classifier__kernel\": [\"linear\", \"rbf\"]\n",
    "}\n",
    "\n",
    "grid_search = GridSearchCV(clf, param_grid, cv=5, scoring=\"accuracy\", n_jobs=-1)\n",
    "grid_search.fit(X_train, y_train)\n",
    "\n",
    "print(\"Best parameters:\", grid_search.best_params_)\n",
    "print(\"Best cross-validation accuracy:\", grid_search.best_score_)\n",
    "\n",
    "y_pred = grid_search.predict(X_test)\n",
    "print(\"Test Accuracy:\", accuracy_score(y_test, y_pred))\n"
   ]
  },
  {
   "cell_type": "markdown",
   "id": "66a888de",
   "metadata": {},
   "source": [
    "\n",
    "---\n",
    "## 3. Key ML Engineering Takeaways\n",
    "\n",
    "| Concept | Purpose | Engineering Insight |\n",
    "|----------|----------|---------------------|\n",
    "| **Pipeline** | Combines preprocessing + model steps | Like a mini DAG for ML workflows |\n",
    "| **GridSearchCV** | Automates hyperparameter tuning | Similar to parameter sweeps in any framework |\n",
    "| **Serialization** | Pipelines can be saved & deployed | e.g., `joblib.dump(pipeline, 'model.joblib')` |\n",
    "\n",
    "These ideas extend beyond Scikit-Learn — pipelines exist in TensorFlow Extended, Spark ML, and MLOps frameworks like Vertex AI and SageMaker.\n",
    "\n",
    "---\n",
    "## ✅ Summary\n",
    "\n",
    "- Pipelines unify your ML workflow.  \n",
    "- GridSearchCV finds the best model configuration.  \n",
    "- Both concepts generalize across programming languages and ML systems.\n",
    "\n",
    "---\n"
   ]
  }
 ],
 "metadata": {
  "kernelspec": {
   "display_name": "venv",
   "language": "python",
   "name": "python3"
  },
  "language_info": {
   "codemirror_mode": {
    "name": "ipython",
    "version": 3
   },
   "file_extension": ".py",
   "mimetype": "text/x-python",
   "name": "python",
   "nbconvert_exporter": "python",
   "pygments_lexer": "ipython3",
   "version": "3.10.10"
  }
 },
 "nbformat": 4,
 "nbformat_minor": 5
}
