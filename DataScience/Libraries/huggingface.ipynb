{
 "cells": [
  {
   "cell_type": "code",
   "execution_count": null,
   "id": "9fdb9fcc",
   "metadata": {},
   "outputs": [],
   "source": [
    "!CMAKE_ARGS=\"-DLLAMA_METAL=on\" pip install llama-cpp-python"
   ]
  },
  {
   "cell_type": "markdown",
   "id": "65764281",
   "metadata": {},
   "source": []
  },
  {
   "cell_type": "code",
   "execution_count": null,
   "id": "24c14c2e",
   "metadata": {},
   "outputs": [],
   "source": [
    "from llama_cpp import Llama\n",
    "\n",
    "# Initialize with Metal backend\n",
    "llm = Llama.from_pretrained(\n",
    "    repo_id=\"TheBloke/TinyLlama-1.1B-Chat-v1.0-GGUF\",\n",
    "    filename=\"tinyllama-1.1b-chat-v1.0.Q8_0.gguf\",\n",
    "    n_gpu_layers=-1,  # Use all layers on GPU # can by an number i.e 35\n",
    "    n_ctx=2048,  # Context size\n",
    "    verbose=False  # Disable logging\n",
    ")"
   ]
  },
  {
   "cell_type": "code",
   "execution_count": null,
   "id": "a548d0e2",
   "metadata": {},
   "outputs": [],
   "source": [
    "# The messages parameter needs to be a list of dictionaries with role and content\n",
    "message = llm.create_chat_completion(\n",
    "    messages=[\n",
    "        {\"role\": \"user\", \"content\": \"Tell me a joke.\"}\n",
    "    ]\n",
    ")\n",
    "print(message) # 25 sec on GPU, 33 sec on CPU (MacBook Pro M2 16GB)"
   ]
  }
 ],
 "metadata": {
  "kernelspec": {
   "display_name": "venv",
   "language": "python",
   "name": "python3"
  },
  "language_info": {
   "codemirror_mode": {
    "name": "ipython",
    "version": 3
   },
   "file_extension": ".py",
   "mimetype": "text/x-python",
   "name": "python",
   "nbconvert_exporter": "python",
   "pygments_lexer": "ipython3",
   "version": "3.10.10"
  }
 },
 "nbformat": 4,
 "nbformat_minor": 5
}
