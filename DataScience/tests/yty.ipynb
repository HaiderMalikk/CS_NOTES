{
 "cells": [
  {
   "cell_type": "code",
   "execution_count": 12,
   "id": "3287439e",
   "metadata": {},
   "outputs": [],
   "source": [
    "import time"
   ]
  },
  {
   "cell_type": "markdown",
   "id": "aa16545d",
   "metadata": {},
   "source": [
    "# Simple Randome int generator"
   ]
  },
  {
   "cell_type": "code",
   "execution_count": 13,
   "id": "b92fad16",
   "metadata": {},
   "outputs": [
    {
     "name": "stdout",
     "output_type": "stream",
     "text": [
      "80\n"
     ]
    }
   ],
   "source": [
    "def random_number(seed):\n",
    "    # Parameters for Linear Congruential Generator\n",
    "    m = 100  # Modulus \n",
    "    a = 37   # Multiplier \n",
    "    c = 10   # Increment \n",
    "    X = seed  # Initial seed \n",
    "    \n",
    "    # Initialize an integer to store the random number\n",
    "    random_number = 0\n",
    "    \n",
    "    # Generate a random sequence using LCG\n",
    "    for _ in range(1):  # We can adjust the number of iterations to get more randomness\n",
    "        X = (a * X + c) % m # formula\n",
    "        random_number = random_number * 10 + X  # Combine the values as a larger number\n",
    "    \n",
    "    return random_number\n",
    "        \n",
    "rd = random_number(10)\n",
    "print(rd)"
   ]
  },
  {
   "cell_type": "markdown",
   "id": "13fe1789",
   "metadata": {},
   "source": []
  },
  {
   "cell_type": "markdown",
   "id": "48d1d80e",
   "metadata": {},
   "source": []
  },
  {
   "cell_type": "markdown",
   "id": "33265b43",
   "metadata": {},
   "source": []
  },
  {
   "cell_type": "markdown",
   "id": "2a2eac58",
   "metadata": {},
   "source": []
  },
  {
   "cell_type": "code",
   "execution_count": null,
   "id": "5e251578",
   "metadata": {},
   "outputs": [
    {
     "name": "stdout",
     "output_type": "stream",
     "text": [
      "head\n"
     ]
    }
   ],
   "source": [
    "def coin_flip(seed):\n",
    "    # Parameters for Linear Congruential Generator\n",
    "    m = 100  # Modulus\n",
    "    a = 37   # Multiplier\n",
    "    c = 10   # Increment\n",
    "    X = seed  # Initial seed \n",
    "\n",
    "    # Initialize an integer to store the random number\n",
    "    random_number = 0\n",
    "\n",
    "    # Generate a random sequence using LCG\n",
    "    for _ in range(1):  # We can adjust the number of iterations to get more randomness\n",
    "        X = (a * X + c) % m # formula\n",
    "        random_number = random_number * 10 + X  # Combine the values as a larger number\n",
    "\n",
    "    return 'head' if random_number % 2 == 0 else 'tail'  \n",
    "\n",
    "rd = coin_flip(10)\n",
    "print(rd)\n"
   ]
  }
 ],
 "metadata": {
  "kernelspec": {
   "display_name": "venv",
   "language": "python",
   "name": "python3"
  },
  "language_info": {
   "codemirror_mode": {
    "name": "ipython",
    "version": 3
   },
   "file_extension": ".py",
   "mimetype": "text/x-python",
   "name": "python",
   "nbconvert_exporter": "python",
   "pygments_lexer": "ipython3",
   "version": "3.10.10"
  }
 },
 "nbformat": 4,
 "nbformat_minor": 5
}
