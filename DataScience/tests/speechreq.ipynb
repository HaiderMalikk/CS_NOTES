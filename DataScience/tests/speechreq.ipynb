{
 "cells": [
  {
   "cell_type": "code",
   "execution_count": 22,
   "id": "7562e897",
   "metadata": {},
   "outputs": [
    {
     "name": "stdout",
     "output_type": "stream",
     "text": [
      "Collecting vosk\n",
      "  Downloading vosk-0.3.44-py3-none-macosx_10_6_universal2.whl (4.7 MB)\n",
      "\u001b[2K     \u001b[90m━━━━━━━━━━━━━━━━━━━━━━━━━━━━━━━━━━━━━━━━\u001b[0m \u001b[32m4.7/4.7 MB\u001b[0m \u001b[31m40.1 MB/s\u001b[0m eta \u001b[36m0:00:00\u001b[0m00:01\u001b[0m00:01\u001b[0m\n",
      "\u001b[?25hRequirement already satisfied: requests in /Users/haidermalik/Documents/Code/CS_NOTES/DataScience/venv/lib/python3.10/site-packages (from vosk) (2.32.3)\n",
      "Collecting srt\n",
      "  Downloading srt-3.5.3.tar.gz (28 kB)\n",
      "  Preparing metadata (setup.py) ... \u001b[?25ldone\n",
      "\u001b[?25hRequirement already satisfied: websockets in /Users/haidermalik/Documents/Code/CS_NOTES/DataScience/venv/lib/python3.10/site-packages (from vosk) (15.0.1)\n",
      "Collecting cffi>=1.0\n",
      "  Downloading cffi-1.17.1-cp310-cp310-macosx_11_0_arm64.whl (178 kB)\n",
      "\u001b[2K     \u001b[90m━━━━━━━━━━━━━━━━━━━━━━━━━━━━━━━━━━━━━━\u001b[0m \u001b[32m178.6/178.6 kB\u001b[0m \u001b[31m40.8 MB/s\u001b[0m eta \u001b[36m0:00:00\u001b[0m\n",
      "\u001b[?25hRequirement already satisfied: tqdm in /Users/haidermalik/Documents/Code/CS_NOTES/DataScience/venv/lib/python3.10/site-packages (from vosk) (4.67.1)\n",
      "Collecting pycparser\n",
      "  Downloading pycparser-2.22-py3-none-any.whl (117 kB)\n",
      "\u001b[2K     \u001b[90m━━━━━━━━━━━━━━━━━━━━━━━━━━━━━━━━━━━━━━\u001b[0m \u001b[32m117.6/117.6 kB\u001b[0m \u001b[31m20.7 MB/s\u001b[0m eta \u001b[36m0:00:00\u001b[0m\n",
      "\u001b[?25hRequirement already satisfied: charset-normalizer<4,>=2 in /Users/haidermalik/Documents/Code/CS_NOTES/DataScience/venv/lib/python3.10/site-packages (from requests->vosk) (3.4.1)\n",
      "Requirement already satisfied: certifi>=2017.4.17 in /Users/haidermalik/Documents/Code/CS_NOTES/DataScience/venv/lib/python3.10/site-packages (from requests->vosk) (2025.1.31)\n",
      "Requirement already satisfied: idna<4,>=2.5 in /Users/haidermalik/Documents/Code/CS_NOTES/DataScience/venv/lib/python3.10/site-packages (from requests->vosk) (3.10)\n",
      "Requirement already satisfied: urllib3<3,>=1.21.1 in /Users/haidermalik/Documents/Code/CS_NOTES/DataScience/venv/lib/python3.10/site-packages (from requests->vosk) (2.3.0)\n",
      "Building wheels for collected packages: srt\n",
      "  Building wheel for srt (setup.py) ... \u001b[?25ldone\n",
      "\u001b[?25h  Created wheel for srt: filename=srt-3.5.3-py3-none-any.whl size=22426 sha256=579c663878ba547e86ab57021b8d25d163841ef383e34ed19bc6b6e38e03e080\n",
      "  Stored in directory: /Users/haidermalik/Library/Caches/pip/wheels/28/bd/bd/3f6c7b6e039ce4ff1740499124049f6b53c896831ed832f429\n",
      "Successfully built srt\n",
      "Installing collected packages: srt, pycparser, cffi, vosk\n",
      "Successfully installed cffi-1.17.1 pycparser-2.22 srt-3.5.3 vosk-0.3.44\n",
      "\n",
      "\u001b[1m[\u001b[0m\u001b[34;49mnotice\u001b[0m\u001b[1;39;49m]\u001b[0m\u001b[39;49m A new release of pip available: \u001b[0m\u001b[31;49m22.3.1\u001b[0m\u001b[39;49m -> \u001b[0m\u001b[32;49m25.0.1\u001b[0m\n",
      "\u001b[1m[\u001b[0m\u001b[34;49mnotice\u001b[0m\u001b[1;39;49m]\u001b[0m\u001b[39;49m To update, run: \u001b[0m\u001b[32;49mpip install --upgrade pip\u001b[0m\n",
      "Collecting sounddevice\n",
      "  Downloading sounddevice-0.5.1-py3-none-macosx_10_6_x86_64.macosx_10_6_universal2.whl (107 kB)\n",
      "\u001b[2K     \u001b[90m━━━━━━━━━━━━━━━━━━━━━━━━━━━━━━━━━━━━━━━\u001b[0m \u001b[32m107.9/107.9 kB\u001b[0m \u001b[31m8.8 MB/s\u001b[0m eta \u001b[36m0:00:00\u001b[0m\n",
      "\u001b[?25hRequirement already satisfied: CFFI>=1.0 in /Users/haidermalik/Documents/Code/CS_NOTES/DataScience/venv/lib/python3.10/site-packages (from sounddevice) (1.17.1)\n",
      "Requirement already satisfied: pycparser in /Users/haidermalik/Documents/Code/CS_NOTES/DataScience/venv/lib/python3.10/site-packages (from CFFI>=1.0->sounddevice) (2.22)\n",
      "Installing collected packages: sounddevice\n",
      "Successfully installed sounddevice-0.5.1\n",
      "\n",
      "\u001b[1m[\u001b[0m\u001b[34;49mnotice\u001b[0m\u001b[1;39;49m]\u001b[0m\u001b[39;49m A new release of pip available: \u001b[0m\u001b[31;49m22.3.1\u001b[0m\u001b[39;49m -> \u001b[0m\u001b[32;49m25.0.1\u001b[0m\n",
      "\u001b[1m[\u001b[0m\u001b[34;49mnotice\u001b[0m\u001b[1;39;49m]\u001b[0m\u001b[39;49m To update, run: \u001b[0m\u001b[32;49mpip install --upgrade pip\u001b[0m\n"
     ]
    }
   ],
   "source": [
    "!pip3 install vosk\n",
    "!pip3 install sounddevice\n"
   ]
  },
  {
   "cell_type": "code",
   "execution_count": 23,
   "id": "96db0271",
   "metadata": {},
   "outputs": [
    {
     "name": "stderr",
     "output_type": "stream",
     "text": [
      "LOG (VoskAPI:ReadDataFiles():model.cc:213) Decoding params beam=10 max-active=3000 lattice-beam=2\n",
      "LOG (VoskAPI:ReadDataFiles():model.cc:216) Silence phones 1:2:3:4:5:6:7:8:9:10\n",
      "LOG (VoskAPI:RemoveOrphanNodes():nnet-nnet.cc:948) Removed 0 orphan nodes.\n",
      "LOG (VoskAPI:RemoveOrphanComponents():nnet-nnet.cc:847) Removing 0 orphan components.\n",
      "LOG (VoskAPI:ReadDataFiles():model.cc:248) Loading i-vector extractor from ./vosk-model-small-en-us-0.15/ivector/final.ie\n",
      "LOG (VoskAPI:ComputeDerivedVars():ivector-extractor.cc:183) Computing derived variables for iVector extractor\n",
      "LOG (VoskAPI:ComputeDerivedVars():ivector-extractor.cc:204) Done.\n",
      "LOG (VoskAPI:ReadDataFiles():model.cc:282) Loading HCL and G from ./vosk-model-small-en-us-0.15/graph/HCLr.fst ./vosk-model-small-en-us-0.15/graph/Gr.fst\n",
      "LOG (VoskAPI:ReadDataFiles():model.cc:303) Loading winfo ./vosk-model-small-en-us-0.15/graph/phones/word_boundary.int\n"
     ]
    },
    {
     "name": "stdout",
     "output_type": "stream",
     "text": [
      "Say something...\n",
      "You said: hello how are you mom\n"
     ]
    }
   ],
   "source": [
    "from vosk import Model, KaldiRecognizer\n",
    "import sounddevice as sd\n",
    "import queue\n",
    "import json\n",
    "\n",
    "# Setup\n",
    "model = Model(\"./vosk-model-small-en-us-0.15\")  # path to the downloaded model\n",
    "q = queue.Queue()\n",
    "\n",
    "# Callback to store audio\n",
    "def callback(indata, frames, time, status):\n",
    "    if status:\n",
    "        print(status)\n",
    "    q.put(bytes(indata))\n",
    "\n",
    "# Start listening\n",
    "with sd.RawInputStream(samplerate=16000, blocksize=8000, dtype='int16',\n",
    "                       channels=1, callback=callback):\n",
    "    print(\"Say something...\")\n",
    "    rec = KaldiRecognizer(model, 16000)\n",
    "\n",
    "    while True:\n",
    "        data = q.get()\n",
    "        if rec.AcceptWaveform(data):\n",
    "            result = json.loads(rec.Result())\n",
    "            print(\"You said:\", result.get(\"text\", \"\"))\n",
    "            break\n"
   ]
  }
 ],
 "metadata": {
  "kernelspec": {
   "display_name": "venv",
   "language": "python",
   "name": "python3"
  },
  "language_info": {
   "codemirror_mode": {
    "name": "ipython",
    "version": 3
   },
   "file_extension": ".py",
   "mimetype": "text/x-python",
   "name": "python",
   "nbconvert_exporter": "python",
   "pygments_lexer": "ipython3",
   "version": "3.10.10"
  }
 },
 "nbformat": 4,
 "nbformat_minor": 5
}
